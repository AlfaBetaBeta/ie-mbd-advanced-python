{
 "cells": [
  {
   "cell_type": "markdown",
   "metadata": {
    "slideshow": {
     "slide_type": "slide"
    }
   },
   "source": [
    "![IE](../img/ie.png)\n",
    "\n",
    "# Sessions 1 & 2: git and `PYTHONPATH`\n",
    "\n",
    "### Juan Luis Cano Rodríguez <jcano@faculty.ie.edu> - Master in Business Analytics and Big Data (2019-03-25)"
   ]
  },
  {
   "cell_type": "markdown",
   "metadata": {},
   "source": [
    "## Introduction to git\n",
    "\n",
    "git is a **version control system** that helps us track changes in our code (and actually any text files), allowing the user to go back in time at any previous state and compare two given states.\n",
    "\n",
    "### References\n",
    "\n",
    "* Pro Git https://git-scm.com/book/en/v2/\n",
    "* Changing history, or How to Git pretty http://justinhileman.info/article/changing-history/"
   ]
  },
  {
   "cell_type": "markdown",
   "metadata": {},
   "source": [
    "### Glossary\n",
    "\n",
    "* **Repository**: Directory tracked by git, contains a `.git` folder and it's created by `$ git init`\n",
    "* **Commit**: State or snapshot of the repository, they are created by `$ git commit`\n",
    "* **Branch**: A parallel or separate line of development, the default one is `master` and they are created by `$ git branch` or `$ git checkout -b`\n",
    "\n",
    "![Branches](https://git-scm.com/book/en/v2/images/advance-master.png)"
   ]
  },
  {
   "cell_type": "markdown",
   "metadata": {},
   "source": [
    "### Linux command line 101\n",
    "\n",
    "* `whoami` (who am I)\n",
    "* `pwd` (print working directory)\n",
    "* `ls` (list): display contents of current directory\n",
    "  - `ls --color`: show color\n",
    "  - `ls -a`: show all files, also hidden ones (those starting with `.`)\n",
    "  - Two special directories: `.` (current) and `..` (parent)\n",
    "* `touch`: create empty file\n",
    "* `nano`: edit a file from the command line\n",
    "  - Advanced alternative: `vim`\n",
    "* `cat` (concatenate): print file contents"
   ]
  },
  {
   "cell_type": "markdown",
   "metadata": {},
   "source": [
    "### Workflow\n",
    "\n",
    "To be done only once: https://help.github.com/en/articles/setting-your-username-in-git#setting-your-git-username-for-every-repository-on-your-computer\n",
    "\n",
    "1. Create a directory `$ mkdir test_project` and navigate there `$ cd test_project`\n",
    "2. Init a git repository `$ git init`\n",
    "3. Check status `$ git status` (\"on branch master, no commits yet, nothing to commit\")\n",
    "4. Create some files `$ nano README.txt`\n",
    "5. Stage the files `$ git add README.txt`\n",
    "6. Commit the changes `$ git commit -m \"First commit\"`\n",
    "\n",
    "Summary:\n",
    "\n",
    "![Workflow](https://git-scm.com/book/en/v2/images/lifecycle.png)"
   ]
  },
  {
   "cell_type": "markdown",
   "metadata": {},
   "source": [
    "### Branching\n",
    "\n",
    "1. Create **and** checkout to new branch `$ git checkout -b new-branch`\n",
    "2. Commit there (see above)\n",
    "3. Go back to main branch `$ git checkout master`\n",
    "4. Merge changes `$ git merge new-branch`\n",
    "5. Delete branch `$ git branch -d new-branch` (don't forget this step!)\n",
    "\n",
    "Normally, the `git merge` step happens online using [pull requests](https://help.github.com/en/articles/about-pull-requests) or [merge requests](https://docs.gitlab.com/ee/user/project/merge_requests/index.html), which are **not** git concepts, but GitHub/GitLab concepts."
   ]
  },
  {
   "cell_type": "markdown",
   "metadata": {},
   "source": [
    "### Merging\n",
    "\n",
    "Two types of git merging:\n",
    "\n",
    "* **Fast-forward merge**: There is no diverging history, and git just \"advances the pointer\" of the current branch\n",
    "  - `$ git merge new-branch --ff-only` will fail if a fast-forward merge is not possible\n",
    "* **Non fast-forward merge**: The history diverged, and git will create a merge commit (hence ask for a commit message) with two parents that combines the two branches\n",
    "  - `$ git merge new-branch --no-ff` always creates a merge commit even if a fast-forward merge is possible\n",
    "\n",
    "Non fast-forward merges can end up in conflicts. In that case, git will halt the merge operation and leave traces in the affected files like this:\n",
    "\n",
    "```\n",
    "$ cat README.txt\n",
    "If you have questions, please\n",
    "<<<<<<< HEAD\n",
    "open an issue\n",
    "=======\n",
    "ask your question in IRC.\n",
    ">>>>>>> branch-a\n",
    "```\n",
    "\n",
    "* To abort a merge `$ git merge --abort` (useful if we are scared and don't know what to do)\n",
    "* To merge overriding everything with the upcoming branch `$ git merge new-branch --strategy-option theirs`\n",
    "* To merge overriding everything with the current branch `git merge new-branch --strategy-option ours`\n",
    "\n",
    "**Be careful** while editing files that are in conflict. [Use your editor](https://www.jetbrains.com/help/pycharm/resolving-conflicts.html)."
   ]
  },
  {
   "cell_type": "markdown",
   "metadata": {},
   "source": [
    "### Other\n",
    "\n",
    "* Ignoring files: `$ nano .gitignore` (this file has to be committed to the repository as well), better to use https://www.gitignore.io/\n",
    "* Amend the last commit: `$ git commit --amend` (for more information, check out the flow chart below)\n",
    "* Show pretty history: `$ git log --graph --oneline --decorate --all`\n",
    "* Configuring git aliases: `$ git config --global alias.lg \"log --graph --oneline --decorate\"` (and now you have `$ git lg`!)\n",
    "\n",
    "![git flow chart](http://justinhileman.info/article/git-pretty/git-pretty.png)"
   ]
  },
  {
   "cell_type": "markdown",
   "metadata": {},
   "source": [
    "## Python execution model\n",
    "\n",
    "### Importing scripts\n",
    "\n",
    "Python code is normally written in `.py` scripts. For example:\n",
    "\n",
    "```\n",
    "$ cat model.py\n",
    "print(\"Hello, world!\")\n",
    "```\n",
    "\n",
    "These scripts can be imported in the same way that any model or package from the [standard library](https://docs.python.org/3/library/index.html) can:\n",
    "\n",
    "```\n",
    "$ python3\n",
    ">>> import math  # Works, because it's in stdlib\n",
    ">>> import numpy as np  # Works if you `pip install numpy`'ed in advance\n",
    ">>> import model  # Works if you are in the same directory\n",
    "Hello, world!\n",
    ">>> \n",
    "```\n",
    "\n",
    "When the user imports a script, **python runs the script**. That's the way all the possible functions and classes inside it are available."
   ]
  },
  {
   "cell_type": "markdown",
   "metadata": {},
   "source": [
    "### The `PYTHONPATH`\n",
    "\n",
    "However, importing our code only works from the same directory:\n",
    "\n",
    "```\n",
    "$ ls\n",
    "model.py README.txt\n",
    "$ cd ..\n",
    "$ ls\n",
    "test_project\n",
    "$ python3\n",
    ">>> import math  # Still works\n",
    ">>> import model\n",
    "Traceback (most recent call last):\n",
    "  File \"<stdin>\", line 1, in <module>\n",
    "ModuleNotFoundError: No module named 'model'\n",
    "```\n",
    "\n",
    "Why? Python looks in some predefined locations to know where to find what we want to import, called the \"PATH\":\n",
    "\n",
    "```\n",
    ">>> import sys\n",
    ">>> sys.path\n",
    "['', '/usr/lib/python36.zip', '/usr/lib/python3.6', '/usr/lib/python3.6/lib-dynload', '/usr/local/lib/python3.6/dist-packages', '/usr/lib/python3/dist-packages']\n",
    "```\n",
    "\n",
    "Therefore, there are two ways of making our code **globally importable**:\n",
    "\n",
    "1. Modify the \"PATH\"\n",
    "2. Put our code inside a location predefined in the \"PATH\"\n",
    "\n",
    "The first option can be achieved like this:\n",
    "\n",
    "```\n",
    ">>> sys.path.insert(0, \"/home/juanlu/test_project\")\n",
    ">>> import model  # Works!\n",
    "Hello, world!\n",
    ">>>\n",
    "```\n",
    "\n",
    "Or, alternatively, from outside of the interpreter:\n",
    "\n",
    "```\n",
    "$ export PYTHONPATH=/home/juanlu/test_project\n",
    "$ python3\n",
    ">>> import sys\n",
    ">>> sys.path  # Notice the change!\n",
    "['', '/home/juanlu/test_project', '/usr/lib/python36.zip', '/usr/lib/python3.6', '/usr/lib/python3.6/lib-dynload', '/usr/local/lib/python3.6/dist-packages', '/usr/lib/python3/dist-packages']\n",
    ">>> import model  # Now it works!\n",
    ">>>\n",
    "```\n",
    "\n",
    "However, **both are bad practices and should be avoided**. In future sessions we will see [the right way to distribute Python code](https://packaging.python.org/tutorials/packaging-projects/)."
   ]
  }
 ],
 "metadata": {
  "kernelspec": {
   "display_name": "Python 3",
   "language": "python",
   "name": "python3"
  },
  "language_info": {
   "codemirror_mode": {
    "name": "ipython",
    "version": 3
   },
   "file_extension": ".py",
   "mimetype": "text/x-python",
   "name": "python",
   "nbconvert_exporter": "python",
   "pygments_lexer": "ipython3",
   "version": "3.7.1"
  }
 },
 "nbformat": 4,
 "nbformat_minor": 2
}
