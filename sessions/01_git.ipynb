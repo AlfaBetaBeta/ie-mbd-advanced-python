{
 "cells": [
  {
   "cell_type": "markdown",
   "metadata": {
    "slideshow": {
     "slide_type": "slide"
    }
   },
   "source": [
    "![IE](../img/ie.png)\n",
    "\n",
    "# Session 1: Introduction to git\n",
    "\n",
    "### Juan Luis Cano Rodríguez <jcano@faculty.ie.edu> - Master in Business Analytics and Big Data"
   ]
  },
  {
   "cell_type": "markdown",
   "metadata": {},
   "source": [
    "### Overview\n",
    "\n",
    "git is a **version control system** that helps us track changes in our code (and actually any text files), allowing the user to go back in time at any previous state and compare two given states.\n",
    "\n",
    "### References\n",
    "\n",
    "* Pro Git https://git-scm.com/book/en/v2/\n",
    "* Changing history, or How to Git pretty http://justinhileman.info/article/changing-history/"
   ]
  },
  {
   "cell_type": "markdown",
   "metadata": {},
   "source": [
    "### Glossary\n",
    "\n",
    "* **Repository**: Directory tracked by git, contains a `.git` folder and it's created by `$ git init`\n",
    "* **Commit**: State or snapshot of the repository, they are created by `$ git commit`\n",
    "* **Branch**: A parallel or separate line of development, the default one is `master` and they are created by `$ git branch` or `$ git checkout -b`\n",
    "\n",
    "![Branches](https://git-scm.com/book/en/v2/images/advance-master.png)"
   ]
  },
  {
   "cell_type": "markdown",
   "metadata": {},
   "source": [
    "### Usage on Windows\n",
    "\n",
    "The Git installer for Windows comes with [MSYS2](http://www.msys2.org/), \"a software distro and building platform for Windows\" that, among other things, provides a Linux-like command line interface. The advantage is that Linux is the Operative System used in 96 % of the world's servers, 100 % of TOP500 supercomputers, and 90 % of all Cloud infrastructure[[1](https://www.zdnet.com/article/can-the-internet-exist-without-linux/)][[2](https://itsfoss.com/linux-runs-top-supercomputers/)][[3](https://www.cbtnuggets.com/blog/certifications/open-source/why-linux-runs-90-percent-of-the-public-cloud-workload)], therefore learning it is very good use of one's time."
   ]
  },
  {
   "cell_type": "markdown",
   "metadata": {},
   "source": [
    "<div class=\"alert alert-info\">To enable an existing Anaconda installation on Git Bash though, one has to follow some extra steps.</div>"
   ]
  },
  {
   "cell_type": "markdown",
   "metadata": {},
   "source": [
    "1. Find out where conda is installed, by opening the Anaconda prompt and typing `> where conda`.\n",
    "2. Look for the `Scripts\\conda.exe` path, and translate it to Linux-like syntax by replacing `C:\\` by `/c/` and all backward slashes `\\` by forward slashes `/`.\n",
    "3. On Git Bash, run `$ /c/TranslatedPath/Anaconda3/Scripts/conda.exe init bash`, then close the terminal as requested by the instructions.\n",
    "4. Check that conda works now on Git Bash by running `$ conda --version`."
   ]
  },
  {
   "cell_type": "markdown",
   "metadata": {},
   "source": [
    "### Linux command line 101\n",
    "\n",
    "* `whoami` (who am I)\n",
    "* `pwd` (print working directory)\n",
    "* `ls` (list): display contents of current directory\n",
    "  - `ls --color`: show color\n",
    "  - `ls -a`: show all files, also hidden ones (those starting with `.`)\n",
    "  - Two special directories: `.` (current) and `..` (parent)\n",
    "* `cd`: change directory\n",
    "* `touch`: create empty file\n",
    "* `nano`: edit a file from the command line\n",
    "  - Advanced alternative: `vim`\n",
    "* `cat` (concatenate): print file contents"
   ]
  },
  {
   "cell_type": "markdown",
   "metadata": {},
   "source": [
    "### Workflow\n",
    "\n",
    "To be done only once: https://help.github.com/en/articles/setting-your-username-in-git#setting-your-git-username-for-every-repository-on-your-computer\n",
    "\n",
    "1. Create a directory `$ mkdir test_project` and navigate there `$ cd test_project`\n",
    "2. Init a git repository `$ git init`\n",
    "3. Check status `$ git status` (\"on branch master, no commits yet, nothing to commit\")\n",
    "4. Create some files `$ nano README.txt`\n",
    "5. Stage the files `$ git add README.txt`\n",
    "6. Commit the changes `$ git commit -m \"First commit\"`\n",
    "\n",
    "Summary:\n",
    "\n",
    "![Workflow](https://git-scm.com/book/en/v2/images/lifecycle.png)"
   ]
  },
  {
   "cell_type": "markdown",
   "metadata": {},
   "source": [
    "<div class=\"alert alert-warning\">Do not run <code>git init</code> on your home directory, as it can lead to confusion and potential data loss. If <code>git status</code> gives a lot of untracked files unrelated to your project, you might want to <code>rm -rf .git</code> and start in another directory. Notice that this command removes all git history.</div>"
   ]
  },
  {
   "cell_type": "markdown",
   "metadata": {},
   "source": [
    "### Branching\n",
    "\n",
    "1. Create **and** checkout to new branch `$ git switch -c new-branch`\n",
    "2. Commit there (see above)\n",
    "3. Go back to main branch `$ git switch master`\n",
    "4. Merge changes `$ git merge new-branch`\n",
    "5. Delete branch `$ git branch -d new-branch` (don't forget this step!)\n",
    "\n",
    "Normally, the `git merge` step happens online using [pull requests](https://help.github.com/en/articles/about-pull-requests) or [merge requests](https://docs.gitlab.com/ee/user/project/merge_requests/index.html), which are **not** git concepts, but GitHub/GitLab concepts."
   ]
  },
  {
   "cell_type": "markdown",
   "metadata": {},
   "source": [
    "<div class=\"alert alert-info\">If <code>git switch</code> does not work for you, you might have an older version of Git. Consider upgrading, or alternatively replace all <code>git switch -c</code> with <code>git checkout -b</code>.</div>"
   ]
  },
  {
   "cell_type": "markdown",
   "metadata": {},
   "source": [
    "### Merging\n",
    "\n",
    "Two types of git merging:\n",
    "\n",
    "* **Fast-forward merge**: There is no diverging history, and git just \"advances the pointer\" of the current branch\n",
    "  - `$ git merge new-branch --ff-only` will fail if a fast-forward merge is not possible\n",
    "* **Non fast-forward merge**: The history diverged, and git will create a merge commit (hence ask for a commit message) with two parents that combines the two branches\n",
    "  - `$ git merge new-branch --no-ff` always creates a merge commit even if a fast-forward merge is possible\n",
    "\n",
    "Non fast-forward merges can end up in conflicts. In that case, git will halt the merge operation and leave traces in the affected files like this:\n",
    "\n",
    "```\n",
    "$ cat README.txt\n",
    "If you have questions, please\n",
    "<<<<<<< HEAD\n",
    "open an issue\n",
    "=======\n",
    "ask your question in IRC.\n",
    ">>>>>>> branch-a\n",
    "```\n",
    "\n",
    "* To abort a merge `$ git merge --abort` (useful if we are scared and don't know what to do)\n",
    "* To merge overriding everything with the upcoming branch `$ git merge new-branch --strategy-option theirs`\n",
    "* To merge overriding everything with the current branch `git merge new-branch --strategy-option ours`\n",
    "\n",
    "**Be careful** while editing files that are in conflict. [Use your editor](https://www.jetbrains.com/help/pycharm/resolving-conflicts.html)."
   ]
  },
  {
   "cell_type": "markdown",
   "metadata": {},
   "source": [
    "### Other\n",
    "\n",
    "* Ignoring files: `$ nano .gitignore` (this file has to be committed to the repository as well), better to use https://www.gitignore.io/\n",
    "* Amend the last commit: `$ git commit --amend` (for more information, check out the flow chart below)\n",
    "* Show pretty history: `$ git log --graph --oneline --decorate --all`\n",
    "* Configuring git aliases: `$ git config --global alias.lg \"log --graph --oneline --decorate\"` (and now you have `$ git lg`!)\n",
    "\n",
    "![git flow chart](http://justinhileman.info/article/git-pretty/git-pretty.png)"
   ]
  },
  {
   "cell_type": "markdown",
   "metadata": {},
   "source": [
    "## Triangular workflows in git\n",
    "\n",
    "When collaborating with a project hosted online on GitHub or GitLab, the most common setup is having a central repository, one remote fork per user, and local clones/checkouts:\n",
    "\n",
    "![Triangular workflow](https://github.blog/wp-content/uploads/2015/07/5dcdcae4-354a-11e5-9f82-915914fad4f7.png?resize=2000%2C951)\n",
    "\n",
    "(Source: https://github.blog/2015-07-29-git-2-5-including-multiple-worktrees-and-triangular-workflows/)\n",
    "\n",
    "Following this workflow requires discipline and sticking to a subset of actions and git commands to avoid common mistakes. This website contains all you need to know to setup your triangular workflow and we don't need to reproduce it here:\n",
    "\n",
    "https://www.asmeurer.com/git-workflow/\n",
    "\n",
    "*Notice* the different naming conventions between this website and the first image:\n",
    "\n",
    "1. **Convention 1**: upstream/origin/local\n",
    "2. **Convention 2**: origin/&#x3C;username&#x3E;/local\n",
    "\n",
    "We will be consistent with the Aaron Meurer guide and therefore use Convention 2 all the time.\n",
    "\n",
    "### ⚠ After creating a pull request ⚠\n",
    "\n",
    "After your pull request has been merged to `master`, your local `master` and `<username>/master` will be outdated with respect to `origin/master`. On the other hand, **you should avoid working on this branch anymore in the future**: remember branches should be ephemeral and short-lived.\n",
    "\n",
    "To put yourself in a clean state again, you have to:\n",
    "\n",
    "1. Click \"remove branch\" in the pull request (don't click \"remove fork\"!)\n",
    "2. `git checkout master` (go back to `master`)\n",
    "3. `git fetch origin` (**never, ever use `git pull` unless you know exactly what you're doing**)\n",
    "4. `git merge --ff-only origin master` (update your local `master` with `origin/master`, and fail if you accidentally made any commit in `master`)\n",
    "5. `git fetch -p <username>` (✨ acknowledge the removal of the remote branch ✨)\n",
    "6. `git branch -d old-branch` (remove the old branch)\n",
    "7. `git push <username> master` (update your fork with respect to `origin`)\n",
    "8. `git checkout -b new-branch` (start working in the new feature!)\n",
    "\n",
    "This process **has to be repeated after every pull request**.\n",
    "\n",
    "🌈 "
   ]
  },
  {
   "cell_type": "markdown",
   "metadata": {},
   "source": [
    "<div class=\"alert alert-info\">Some organizations where all the members are trusted do not use forks, and everybody pushes their branches to the same repository instead. While this simplifies some parts of the workflow, it also requires proper checks in place to prevent bad code to be merged - for example, by <a href=\"https://help.github.com/en/github/administering-a-repository/enabling-required-reviews-for-pull-requests\">requiring a minimum number of reviews</a> or <a href=\"https://help.github.com/en/github/administering-a-repository/about-required-status-checks\">some automated status checks</a>.</div>"
   ]
  }
 ],
 "metadata": {
  "kernelspec": {
   "display_name": "Python 3",
   "language": "python",
   "name": "python3"
  },
  "language_info": {
   "codemirror_mode": {
    "name": "ipython",
    "version": 3
   },
   "file_extension": ".py",
   "mimetype": "text/x-python",
   "name": "python",
   "nbconvert_exporter": "python",
   "pygments_lexer": "ipython3",
   "version": "3.7.4"
  }
 },
 "nbformat": 4,
 "nbformat_minor": 4
}
