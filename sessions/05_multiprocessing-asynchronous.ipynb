{
 "cells": [
  {
   "cell_type": "markdown",
   "metadata": {
    "slideshow": {
     "slide_type": "slide"
    }
   },
   "source": [
    "![IE](../img/ie.png)\n",
    "\n",
    "# Sessions 9 & 10: Multi-process and asynchronous programming\n",
    "\n",
    "### Juan Luis Cano Rodríguez <jcano@faculty.ie.edu> - Master in Business Analytics and Big Data (2019-04-24)"
   ]
  },
  {
   "cell_type": "markdown",
   "metadata": {},
   "source": [
    "## First rule of performance analysis\n",
    "\n",
    "> \"We should forget about small efficiencies, say about 97% of the time: premature optimization is the root of all evil.\"\n",
    ">\n",
    "> — Donald E. Knuth\n",
    "\n",
    "> **premature** (adj.) pre·ma·ture : happening, arriving, existing, or performed before the proper, usual, or intended time\n",
    ">\n",
    "> Merriam-Webster dictionary\n",
    "\n",
    "There are several techniques to make slow programs go faster. However, no matter what we do, the first step is to **analyze** _where does the slowdown come from_.\n",
    "\n",
    "Among the most straight-forward tools to analyze performance in Python are cProfile and line_profiler, and they are very easy to use from the notebook. cProfile is part of the standard library, whereas line_profiler must be installed with pip:"
   ]
  },
  {
   "cell_type": "code",
   "execution_count": 1,
   "metadata": {},
   "outputs": [
    {
     "name": "stdout",
     "output_type": "stream",
     "text": [
      "Requirement already satisfied: cython in /home/juanlu/.miniconda36/envs/mbd19/lib/python3.7/site-packages (0.29.2)\n",
      "Collecting https://github.com/rkern/line_profiler/archive/master.zip\n",
      "  Downloading https://github.com/rkern/line_profiler/archive/master.zip\n",
      "\u001b[K     / 245kB 716kB/s\n",
      "Requirement already satisfied (use --upgrade to upgrade): line-profiler==2.1.1 from https://github.com/rkern/line_profiler/archive/master.zip in /home/juanlu/.miniconda36/envs/mbd19/lib/python3.7/site-packages\n",
      "Requirement already satisfied: IPython>=0.13 in /home/juanlu/.miniconda36/envs/mbd19/lib/python3.7/site-packages (from line-profiler==2.1.1) (6.2.1)\n",
      "Requirement already satisfied: pexpect; sys_platform != \"win32\" in /home/juanlu/.miniconda36/envs/mbd19/lib/python3.7/site-packages (from IPython>=0.13->line-profiler==2.1.1) (4.6.0)\n",
      "Requirement already satisfied: prompt-toolkit<2.0.0,>=1.0.4 in /home/juanlu/.miniconda36/envs/mbd19/lib/python3.7/site-packages (from IPython>=0.13->line-profiler==2.1.1) (1.0.15)\n",
      "Requirement already satisfied: jedi>=0.10 in /home/juanlu/.miniconda36/envs/mbd19/lib/python3.7/site-packages (from IPython>=0.13->line-profiler==2.1.1) (0.13.2)\n",
      "Requirement already satisfied: pygments in /home/juanlu/.miniconda36/envs/mbd19/lib/python3.7/site-packages (from IPython>=0.13->line-profiler==2.1.1) (2.3.1)\n",
      "Requirement already satisfied: traitlets>=4.2 in /home/juanlu/.miniconda36/envs/mbd19/lib/python3.7/site-packages (from IPython>=0.13->line-profiler==2.1.1) (4.3.2)\n",
      "Requirement already satisfied: setuptools>=18.5 in /home/juanlu/.miniconda36/envs/mbd19/lib/python3.7/site-packages (from IPython>=0.13->line-profiler==2.1.1) (40.6.3)\n",
      "Requirement already satisfied: decorator in /home/juanlu/.miniconda36/envs/mbd19/lib/python3.7/site-packages (from IPython>=0.13->line-profiler==2.1.1) (4.3.0)\n",
      "Requirement already satisfied: pickleshare in /home/juanlu/.miniconda36/envs/mbd19/lib/python3.7/site-packages (from IPython>=0.13->line-profiler==2.1.1) (0.7.5)\n",
      "Requirement already satisfied: simplegeneric>0.8 in /home/juanlu/.miniconda36/envs/mbd19/lib/python3.7/site-packages (from IPython>=0.13->line-profiler==2.1.1) (0.8.1)\n",
      "Requirement already satisfied: ptyprocess>=0.5 in /home/juanlu/.miniconda36/envs/mbd19/lib/python3.7/site-packages (from pexpect; sys_platform != \"win32\"->IPython>=0.13->line-profiler==2.1.1) (0.6.0)\n",
      "Requirement already satisfied: six>=1.9.0 in /home/juanlu/.miniconda36/envs/mbd19/lib/python3.7/site-packages (from prompt-toolkit<2.0.0,>=1.0.4->IPython>=0.13->line-profiler==2.1.1) (1.12.0)\n",
      "Requirement already satisfied: wcwidth in /home/juanlu/.miniconda36/envs/mbd19/lib/python3.7/site-packages (from prompt-toolkit<2.0.0,>=1.0.4->IPython>=0.13->line-profiler==2.1.1) (0.1.7)\n",
      "Requirement already satisfied: parso>=0.3.0 in /home/juanlu/.miniconda36/envs/mbd19/lib/python3.7/site-packages (from jedi>=0.10->IPython>=0.13->line-profiler==2.1.1) (0.3.1)\n",
      "Requirement already satisfied: ipython-genutils in /home/juanlu/.miniconda36/envs/mbd19/lib/python3.7/site-packages (from traitlets>=4.2->IPython>=0.13->line-profiler==2.1.1) (0.2.0)\n",
      "Building wheels for collected packages: line-profiler\n",
      "  Running setup.py bdist_wheel for line-profiler ... \u001b[?25ldone\n",
      "\u001b[?25h  Stored in directory: /tmp/pip-ephem-wheel-cache-qra37gu9/wheels/c0/45/5c/273eebba2150941af640a9801c65dec439f35f747e694aeb52\n",
      "Successfully built line-profiler\n"
     ]
    }
   ],
   "source": [
    "#!pip install line_profiler  # Python <= 3.6\n",
    "!pip install cython  # Required to install line_profiler from source\n",
    "!pip install https://github.com/rkern/line_profiler/archive/master.zip  # Required in Python 3.7"
   ]
  }
 ],
 "metadata": {
  "kernelspec": {
   "display_name": "Python 3",
   "language": "python",
   "name": "python3"
  },
  "language_info": {
   "codemirror_mode": {
    "name": "ipython",
    "version": 3
   },
   "file_extension": ".py",
   "mimetype": "text/x-python",
   "name": "python",
   "nbconvert_exporter": "python",
   "pygments_lexer": "ipython3",
   "version": "3.7.1"
  }
 },
 "nbformat": 4,
 "nbformat_minor": 2
}
