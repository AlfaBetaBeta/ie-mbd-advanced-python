{
 "cells": [
  {
   "cell_type": "markdown",
   "metadata": {
    "slideshow": {
     "slide_type": "slide"
    }
   },
   "source": [
    "![IE](../img/ie.png)\n",
    "\n",
    "# Session 2: The Python execution model\n",
    "\n",
    "### Juan Luis Cano Rodríguez <jcano@faculty.ie.edu> - Master in Business Analytics and Big Data (2020-05-07)"
   ]
  },
  {
   "cell_type": "markdown",
   "metadata": {},
   "source": [
    "### How does `import` work?\n",
    "\n",
    "How do `import os` and `import pandas` work? They are both in `sys.path`:"
   ]
  },
  {
   "cell_type": "code",
   "execution_count": null,
   "metadata": {},
   "outputs": [],
   "source": []
  },
  {
   "cell_type": "markdown",
   "metadata": {},
   "source": [
    "### How can I `import` my code?\n",
    "\n",
    "Before answering that question, let's create a small project, called \"IE-NLP-Utils\", where we will place some basic functios we will use throughout the course.\n",
    "\n",
    "1. Go to the command line\n",
    "2. Browse to a directory of your liking, for example `cd ~/Projects/IE`\n",
    "3. Create a new directory, for example `mkdir ie-nlp-utils`\n",
    "4. Enter that directory, `cd ie-nlp-utils`\n",
    "5. Let's create a basic `README.md` containing the name of the project and your name\n",
    "6. Let's generate a `.gitignore` file from https://gitignore.io/ for \"Python\" and \"Jupyter notebooks\", and copy the contents in the same directory as the `README.md`\n",
    "7. `git add` the two new files, and `git commit` with the message `\"First commit\"`"
   ]
  },
  {
   "cell_type": "markdown",
   "metadata": {},
   "source": [
    "#### Exercise\n",
    "\n",
    "Now we have some basic structure to start a Python project (we will see how to refine this in another session). Now we are going to create some basic code that we can use.\n",
    "\n",
    "1. Create a `ie_nlp_utils.py` file with a function called `tokenize` that takes a `str` sentence and splits it into a `list` of words\n",
    "2. Open a Python interpreter (`winpty python` on Git Bash on Windows, `python` everywhere else) and check that `from ie_nlp_utils import tokenize` works\n",
    "3. Test the function by calling it with some sentence"
   ]
  },
  {
   "cell_type": "markdown",
   "metadata": {},
   "source": [
    "### The `PYTHONPATH`\n",
    "\n",
    "However, importing our code only works from the same directory:\n",
    "\n",
    "```\n",
    "$ ls\n",
    "ie_nlp_utils.py README.md\n",
    "$ cd ..\n",
    "$ ls\n",
    "ie-nlp-utils\n",
    "$ python3\n",
    ">>> import math  # Still works\n",
    ">>> import ie_nlp_utils\n",
    "Traceback (most recent call last):\n",
    "  File \"<stdin>\", line 1, in <module>\n",
    "ModuleNotFoundError: No module named 'ie_nlp_utils'\n",
    "```\n",
    "\n",
    "Why? Python looks in some predefined locations to know where to find what we want to import, called the \"PATH\":\n",
    "\n",
    "```\n",
    ">>> import sys\n",
    ">>> sys.path\n",
    "['', '/usr/lib/python36.zip', '/usr/lib/python3.6', '/usr/lib/python3.6/lib-dynload', '/usr/local/lib/python3.6/dist-packages', '/usr/lib/python3/dist-packages']\n",
    "```\n",
    "**ABB**: `sys.path` displays a **list** with all the paths that python is using to retrieve modules and libraries.\n",
    "\n",
    "**ABB sidenote**: The dunder attribute `__file__` returns a path showing where the module/library is located:\n",
    "```\n",
    "import os\n",
    ">>> os.__file__\n",
    " '..../os.py'\n",
    "```\n",
    "\n",
    "Therefore, there are two ways of making our code **globally importable**:\n",
    "\n",
    "1. Modify the \"PATH\"\n",
    "2. Put our code inside a location predefined in the \"PATH\"\n",
    "\n",
    "The first option can be achieved like this:\n",
    "\n",
    "```\n",
    ">>> sys.path.insert(0, \"/home/juanlu/Projects/IE/ie_nlp_utils\")\n",
    ">>> import ie_nlp_utils  # Works!\n",
    ">>>\n",
    "```\n",
    "**ABB**: Note that this method works only for the ***current*** python interpreter session. If we end the session via `quit()` and enter a new one via `python` then the path to `ie_nlp_utils` is unavailable again.\n",
    "\n",
    "Or, alternatively, from outside of the interpreter:\n",
    "\n",
    "```\n",
    "$ export PYTHONPATH=/home/juanlu/Projects/IE/ie_nlp_utils\n",
    "$ python3\n",
    ">>> import sys\n",
    ">>> sys.path  # Notice the change!\n",
    "['', '/home/juanlu/Projects/IE/ie_nlp_utils', '/usr/lib/python36.zip', '/usr/lib/python3.6', '/usr/lib/python3.6/lib-dynload', '/usr/local/lib/python3.6/dist-packages', '/usr/lib/python3/dist-packages']\n",
    ">>> import ie_nlp_utils  # Now it works!\n",
    ">>>\n",
    "```\n",
    "**ABB**: This method (since it was implemented from outside of the interpreter) persists over several python interpreter sessions but stops being in effect **once the terminal session is over** (i.e. upon opening a new terminal window and starting a new interpreter session, `sys.path` will not display the path to `ie_nlp_utils` anymore.\n",
    "\n",
    "However, **both are bad practices and should be avoided**. In future sessions we will see [the right way to distribute Python code](https://packaging.python.org/tutorials/packaging-projects/)."
   ]
  },
  {
   "cell_type": "markdown",
   "metadata": {},
   "source": [
    "### What does `import` do?\n",
    "\n",
    "Python code is normally written in `.py` scripts. For example:\n",
    "\n",
    "```\n",
    "$ cat model.py\n",
    "print(\"Hello, world!\")\n",
    "```\n",
    "\n",
    "These scripts can be imported in the same way that any model or package from the [standard library](https://docs.python.org/3/library/index.html) can:\n",
    "\n",
    "```\n",
    "$ python3\n",
    ">>> import math  # Works, because it's in stdlib\n",
    ">>> import numpy as np  # Works if you `pip install numpy`'ed in advance\n",
    ">>> import model  # Works if you are in the same directory\n",
    "Hello, world!\n",
    ">>> \n",
    "```\n",
    "\n",
    "When the user imports a script, **python runs the script**. That's the way all the possible functions and classes inside it are available."
   ]
  },
  {
   "cell_type": "markdown",
   "metadata": {},
   "source": [
    "**ABB**: Let us go over this last point again, it is important.\n",
    "\n",
    "Say we are looking at our module stored in the `ie_nlp_utils.py` file, and that the script looks like this\n",
    "```\n",
    "$ cat ie_nlp_utils.py\n",
    "print(\"Hello from inside ie_nlp_utils\")\n",
    "def tokenize(sent):\n",
    "    return sent.split()\n",
    "```\n",
    "If we are already in the directory `ie-nlp-utils`, we can go ahead and do\n",
    "```\n",
    "$ python3\n",
    ">>> import ie_nlp_utils\n",
    "Hello from inside ie_nlp_utils\n",
    "```\n",
    "The function `tokenize` is read and any other existing code (the `print` call in this case) is executed. Note that this only happens the first time, as is intuitive. Repeating the import (redundant) leads to:\n",
    "```\n",
    "$ python3\n",
    ">>> import ie_nlp_utils\n",
    "```\n",
    "So the `import` command already entails some **execution**, which explains that just by importing a `__pycache__` directory is created in our working directory.\n",
    "\n",
    "Incidentally, if we just want to run a line or short snippet, it is possible to do so from the terminal directly, without opening an interpreter session:\n",
    "```\n",
    "$ python -c \"import ie_nlp_utils\"\n",
    "```\n",
    "It allows for imports and blank lines are ok too (though attention must be paid to inner quotes and indentation):\n",
    "```\n",
    "$ python -c 'print(1)\n",
    "print(2)'\n",
    "1\n",
    "2\n",
    "\n",
    "$ python -c '\n",
    "import pprint\n",
    "pprint.pprint(1)\n",
    "'\n",
    "1\n",
    "\n",
    "$ python -c \"print('example')\"\n",
    "example\n",
    "```\n",
    "Multiple statements are separated by `;`:\n",
    "```\n",
    "$ python -c \"a='example';print(a)\"\n",
    "example\n",
    "```"
   ]
  },
  {
   "cell_type": "markdown",
   "metadata": {},
   "source": [
    "**ABB**: If there is executable code in the module (py script) that we want to import but do not want such code to be executed when doing `import`, then we have to resort to the dunder attribute `__name__`:\n",
    "```\n",
    "$ cat ie_nlp_utils.py\n",
    "def tokenize(sent):\n",
    "    return sent.split()\n",
    "if __name__ == '__main__':\n",
    "    print(\"Hello from inside ie_nlp_utils as main\")\n",
    "    \n",
    "$ python -c \"import ie_nlp_utils\"\n",
    "$\n",
    "```\n",
    "Despite the import, the `print` call is not executed because we are not inside ie_nlp_utils.py!"
   ]
  }
 ],
 "metadata": {
  "kernelspec": {
   "display_name": "Python 3",
   "language": "python",
   "name": "python3"
  },
  "language_info": {
   "codemirror_mode": {
    "name": "ipython",
    "version": 3
   },
   "file_extension": ".py",
   "mimetype": "text/x-python",
   "name": "python",
   "nbconvert_exporter": "python",
   "pygments_lexer": "ipython3",
   "version": "3.7.4"
  }
 },
 "nbformat": 4,
 "nbformat_minor": 4
}
