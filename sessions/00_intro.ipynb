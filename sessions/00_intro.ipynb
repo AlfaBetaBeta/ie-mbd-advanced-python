{
 "cells": [
  {
   "cell_type": "markdown",
   "metadata": {
    "slideshow": {
     "slide_type": "slide"
    }
   },
   "source": [
    "![IE](../img/ie.png)\n",
    "\n",
    "# Advanced Python\n",
    "\n",
    "##  Master in Business Analytics and Big Data, 2019-2020 (April intake)\n",
    "\n",
    "### Professor: Juan Luis Cano Rodríguez <jcano@faculty.ie.edu>"
   ]
  },
  {
   "cell_type": "markdown",
   "metadata": {
    "slideshow": {
     "slide_type": "slide"
    }
   },
   "source": [
    "# Outline\n",
    "\n",
    "* Who am I?\n",
    "* About this course\n",
    "  - Learning objectives\n",
    "  - Calendar\n",
    "  - Evaluation method\n",
    "  - Material\n",
    "  - Software"
   ]
  },
  {
   "cell_type": "markdown",
   "metadata": {
    "slideshow": {
     "slide_type": "slide"
    }
   },
   "source": [
    "# Who am I?\n",
    "\n",
    "![Me](../img/juanlu_esa.jpg)\n",
    "\n",
    "* **Aerospace Engineer** from TU Madrid, 1 year visiting student at Politecnico di Milano\n",
    "* Currently **Mission Planning & Execution Engineer** at **Satellogic**, a satellite imagery company\n",
    "* **Contributor** to the Scientific Python ecosystem: NumPy, SciPy, conda and Dask\n",
    "* **Instructor** of Python courses for Data Scientists at Airbus, Telefónica, Boeing and others\n",
    "* Experience as **Data Scientist** with Python for telco and aerospace industries\n",
    "* Chair of the **Python España** non profit and co-organizer of **PyCon Spain**\n",
    "  - [Videos from Alicante available soon!](https://www.youtube.com/c/PythonEspañaOficial)\n",
    "* Free Software and Open Culture advocate and Python enthusiast"
   ]
  },
  {
   "cell_type": "markdown",
   "metadata": {
    "slideshow": {
     "slide_type": "slide"
    }
   },
   "source": [
    "# About this course\n",
    "\n",
    "## Learning objectives\n",
    "\n",
    "1. Learn modern software engineering practices using Python\n",
    "2. Understand the value of automation in the software engineering process\n",
    "3. Learn how to package Python libraries\n",
    "4. Introduce techniques to accelerate CPU-bound and I/O-bound tasks in Python"
   ]
  },
  {
   "cell_type": "markdown",
   "metadata": {
    "slideshow": {
     "slide_type": "subslide"
    }
   },
   "source": [
    "## (My) unofficial learning objectives\n",
    "\n",
    "* Help you become autonomous Python developers\n",
    "  - ...even when left on a cluster without `sudo` and the IT guy on paternity leave\n",
    "* Enter the open source way of working and, if it's your first time, help you make your first open source contribution\n",
    "* Make you realize how difficult can be to collaborate through git, and overcome such difficulties\n",
    "* Have fun"
   ]
  },
  {
   "cell_type": "markdown",
   "metadata": {
    "slideshow": {
     "slide_type": "subslide"
    }
   },
   "source": [
    "## Calendar\n",
    "\n",
    "* **5 double sessions** from November 27th to December 18th + Extra session January 16th (pretty tight)\n",
    "* **All sessions will be hands on**, bring your laptops!"
   ]
  },
  {
   "cell_type": "markdown",
   "metadata": {
    "slideshow": {
     "slide_type": "subslide"
    }
   },
   "source": [
    "## Evaluation method\n",
    "\n",
    "| Criteria                   | Score % |\n",
    "|----------------------------|---------|\n",
    "| Class Participation        |  10 %   |\n",
    "| Individual Assignments     |  40 %   |\n",
    "| Group Project              |  50 %   |"
   ]
  },
  {
   "cell_type": "markdown",
   "metadata": {
    "slideshow": {
     "slide_type": "subslide"
    }
   },
   "source": [
    "## Individual Assignment\n",
    "\n",
    "* Mandatory: TBD\n",
    "* Optional: **Make a pull request to a PyData project**\n",
    "\n",
    "### Pull request\n",
    "\n",
    "* To choose between:\n",
    "  - https://github.com/pandas-dev/pandas/\n",
    "  - https://github.com/scikit-learn/scikit-learn/\n",
    "  - https://github.com/matplotlib/matplotlib/\n",
    "  - https://github.com/ipython/ipython/\n",
    "  - https://github.com/dask/dask\n",
    "* Advantages:\n",
    "  - \"Good first issue\" tags\n",
    "  - High activity, possibly quick response (within a few days)\n",
    "  - If merged, it will be used by hundreds of thousands of people!\n",
    "* To avoid overlap, announce on https://github.com/Juanlu001/ie-mbd-advanced-python/issues"
   ]
  },
  {
   "cell_type": "markdown",
   "metadata": {
    "slideshow": {
     "slide_type": "subslide"
    }
   },
   "source": [
    "## Group project\n",
    "\n",
    "> **Create an open source, reusable pandas-like Python library from scratch**\n",
    "\n",
    "* Should live on https://github.com/ (if you don't have an account yet, go create it)\n",
    "* Project management:\n",
    "  1. Break down into list of small tasks\n",
    "  2. Identify dependencies and blockers, lay out roadmap\n",
    "  3. Assign each task to one single person\n",
    "  4. Submit pull request, review\n",
    "  5. Publish to https://test.pypi.org/\n",
    "* To be announced:\n",
    "  * Minimum requirements"
   ]
  },
  {
   "cell_type": "markdown",
   "metadata": {
    "slideshow": {
     "slide_type": "subslide"
    }
   },
   "source": [
    "## Material\n",
    "\n",
    "* Sessions notes: https://github.com/Juanlu001/ie-mbd-advanced-python"
   ]
  },
  {
   "cell_type": "markdown",
   "metadata": {
    "slideshow": {
     "slide_type": "fragment"
    }
   },
   "source": [
    "...yes, everything is freely available on the Internet :)"
   ]
  },
  {
   "cell_type": "markdown",
   "metadata": {
    "slideshow": {
     "slide_type": "subslide"
    }
   },
   "source": [
    "## Software\n",
    "\n",
    "> 1. **Git BASH** on Windows, **Git** on macOS (so we all use a Linux-like command line interface)\n",
    "> 2. Any Python >= 3.7 you like\n",
    "> 3. Any text editor or Python IDE you like\n",
    "\n",
    "* You are free to use any Python you like\n",
    "  - _I_ will be using Python 3.7 managed through [pyenv](https://github.com/pyenv/pyenv)\n",
    "  - You can keep using Anaconda 2019.07 and later, but you must **create a new conda environment**\n",
    "  - ...and if you have trouble with versions, Python 3.7-only syntax or any other thing, I'll teach you how to fix them\n",
    "* You are free to use any text editor or Python IDE you like\n",
    "  - _I_ will be using [nano](https://www.nano-editor.org/screenshots.php), [vim](https://en.wikipedia.org/wiki/File:Vim-(logiciel)-console.png) or [PyCharm](https://www.jetbrains.com/pycharm/) depending on context\n",
    "  - Others have recommended [Visual Studio Code](https://code.visualstudio.com/)\n",
    "  - Pick one, get comfortable with it, ignore \"editor wars\""
   ]
  },
  {
   "cell_type": "markdown",
   "metadata": {
    "slideshow": {
     "slide_type": "slide"
    }
   },
   "source": [
    "# Shall we begin?\n",
    "\n",
    "![Talk is cheap](../img/quote-talk-is-cheap-show-me-the-code-linus-torvalds-273528.jpg)"
   ]
  }
 ],
 "metadata": {
  "celltoolbar": "Slideshow",
  "kernelspec": {
   "display_name": "Python 3",
   "language": "python",
   "name": "python3"
  },
  "language_info": {
   "codemirror_mode": {
    "name": "ipython",
    "version": 3
   },
   "file_extension": ".py",
   "mimetype": "text/x-python",
   "name": "python",
   "nbconvert_exporter": "python",
   "pygments_lexer": "ipython3",
   "version": "3.7.3"
  }
 },
 "nbformat": 4,
 "nbformat_minor": 4
}
